{
 "cells": [
  {
   "cell_type": "code",
   "execution_count": 2,
   "id": "7774379e",
   "metadata": {},
   "outputs": [],
   "source": [
    "#Image Classification using CNN\n",
    "import tensorflow as tf\n",
    "from keras.preprocessing.image import ImageDataGenerator"
   ]
  },
  {
   "cell_type": "code",
   "execution_count": 3,
   "id": "3616391d",
   "metadata": {},
   "outputs": [
    {
     "name": "stdout",
     "output_type": "stream",
     "text": [
      "Found 8000 images belonging to 2 classes.\n"
     ]
    }
   ],
   "source": [
    "#Data Preprocessing\n",
    "#TrainSet\n",
    "train_datagen = ImageDataGenerator(\n",
    "        rescale=1./255,  #Feature Scaling\n",
    "        shear_range=0.2, # Transformation\n",
    "        zoom_range=0.2,  # Transformation\n",
    "        horizontal_flip=True) # Transformation\n",
    "training_set = train_datagen.flow_from_directory(\n",
    "        'C:/Users/rukmi/OneDrive/Documents/ML Course/dataset/dataset/training_set',\n",
    "        target_size=(64, 64), #The final size of the image when they are fed to the CNN.\n",
    "        batch_size=32,\n",
    "        class_mode='binary')"
   ]
  },
  {
   "cell_type": "code",
   "execution_count": 4,
   "id": "44e16265",
   "metadata": {},
   "outputs": [
    {
     "name": "stdout",
     "output_type": "stream",
     "text": [
      "Found 2000 images belonging to 2 classes.\n"
     ]
    }
   ],
   "source": [
    "#Data Preprocessing\n",
    "#TestSet\n",
    "test_datagen = ImageDataGenerator(rescale=1./255) #Feature Scaling\n",
    "test_set = test_datagen.flow_from_directory(\n",
    "        'C:/Users/rukmi/OneDrive/Documents/ML Course/dataset/dataset/test_set',\n",
    "        target_size=(64, 64), #The final size of the image when they are fed to the CNN.\n",
    "        batch_size=32,\n",
    "        class_mode='binary')"
   ]
  },
  {
   "cell_type": "code",
   "execution_count": 5,
   "id": "cddc7d59",
   "metadata": {},
   "outputs": [],
   "source": [
    "#Building CNN\n",
    "cnn = tf.keras.models.Sequential() #Initializing the CNN\n",
    "#Convolution\n",
    "cnn.add(tf.keras.layers.Conv2D(filters=32, kernel_size=3, activation='relu', input_shape=[64, 64, 3] ))"
   ]
  },
  {
   "cell_type": "code",
   "execution_count": 6,
   "id": "f7ba31db",
   "metadata": {},
   "outputs": [],
   "source": [
    "#Pooling\n",
    "cnn.add(tf.keras.layers.MaxPool2D(pool_size=2, strides=2)) #Strides indicate the sliding of the frame i.e. here for 2 units."
   ]
  },
  {
   "cell_type": "code",
   "execution_count": 7,
   "id": "3fdaa6ab",
   "metadata": {},
   "outputs": [],
   "source": [
    "#Adding second Convolutional layer\n",
    "cnn.add(tf.keras.layers.Conv2D(filters=32, kernel_size=3, activation='relu' ))\n",
    "cnn.add(tf.keras.layers.MaxPool2D(pool_size=2, strides=2))"
   ]
  },
  {
   "cell_type": "code",
   "execution_count": 8,
   "id": "c1d61399",
   "metadata": {},
   "outputs": [],
   "source": [
    "#Flattening\n",
    "cnn.add(tf.keras.layers.Flatten())\n"
   ]
  },
  {
   "cell_type": "code",
   "execution_count": 9,
   "id": "e0e6c065",
   "metadata": {},
   "outputs": [],
   "source": [
    "#Full Connection\n",
    "cnn.add(tf.keras.layers.Dense(units=128,activation='relu')) #Here, the neurons in hidden layer is 128 since we are dealing with large set of images."
   ]
  },
  {
   "cell_type": "code",
   "execution_count": 10,
   "id": "f3263f58",
   "metadata": {},
   "outputs": [],
   "source": [
    "#Output layer\n",
    "cnn.add(tf.keras.layers.Dense(units=1,activation='sigmoid'))"
   ]
  },
  {
   "cell_type": "code",
   "execution_count": 11,
   "id": "39cd793a",
   "metadata": {},
   "outputs": [],
   "source": [
    "#Training the CNN\n",
    "#Compiling the CNN\n",
    "cnn.compile(optimizer='adam',loss='binary_crossentropy',metrics=['accuracy'])"
   ]
  },
  {
   "cell_type": "code",
   "execution_count": 12,
   "id": "7a8584c6",
   "metadata": {
    "scrolled": true
   },
   "outputs": [
    {
     "name": "stdout",
     "output_type": "stream",
     "text": [
      "Epoch 1/25\n",
      "250/250 [==============================] - 161s 640ms/step - loss: 0.6909 - accuracy: 0.5436 - val_loss: 0.6484 - val_accuracy: 0.6295\n",
      "Epoch 2/25\n",
      "250/250 [==============================] - 53s 210ms/step - loss: 0.6315 - accuracy: 0.6476 - val_loss: 0.6442 - val_accuracy: 0.6300\n",
      "Epoch 3/25\n",
      "250/250 [==============================] - 52s 208ms/step - loss: 0.5815 - accuracy: 0.6961 - val_loss: 0.5635 - val_accuracy: 0.7210\n",
      "Epoch 4/25\n",
      "250/250 [==============================] - 46s 184ms/step - loss: 0.5442 - accuracy: 0.7218 - val_loss: 0.5404 - val_accuracy: 0.7330\n",
      "Epoch 5/25\n",
      "250/250 [==============================] - 51s 204ms/step - loss: 0.5086 - accuracy: 0.7501 - val_loss: 0.6075 - val_accuracy: 0.7010\n",
      "Epoch 6/25\n",
      "250/250 [==============================] - 44s 177ms/step - loss: 0.4950 - accuracy: 0.7558 - val_loss: 0.4966 - val_accuracy: 0.7595\n",
      "Epoch 7/25\n",
      "250/250 [==============================] - 38s 153ms/step - loss: 0.4759 - accuracy: 0.7745 - val_loss: 0.4979 - val_accuracy: 0.7685\n",
      "Epoch 8/25\n",
      "250/250 [==============================] - 48s 191ms/step - loss: 0.4570 - accuracy: 0.7807 - val_loss: 0.4758 - val_accuracy: 0.7615\n",
      "Epoch 9/25\n",
      "250/250 [==============================] - 61s 246ms/step - loss: 0.4408 - accuracy: 0.7921 - val_loss: 0.4628 - val_accuracy: 0.7935\n",
      "Epoch 10/25\n",
      "250/250 [==============================] - 61s 244ms/step - loss: 0.4313 - accuracy: 0.7986 - val_loss: 0.4514 - val_accuracy: 0.7975\n",
      "Epoch 11/25\n",
      "250/250 [==============================] - 61s 244ms/step - loss: 0.4130 - accuracy: 0.8091 - val_loss: 0.4766 - val_accuracy: 0.7820\n",
      "Epoch 12/25\n",
      "250/250 [==============================] - 64s 258ms/step - loss: 0.4041 - accuracy: 0.8188 - val_loss: 0.5044 - val_accuracy: 0.7645\n",
      "Epoch 13/25\n",
      "250/250 [==============================] - 62s 247ms/step - loss: 0.4022 - accuracy: 0.8151 - val_loss: 0.4632 - val_accuracy: 0.7795\n",
      "Epoch 14/25\n",
      "250/250 [==============================] - 63s 254ms/step - loss: 0.3840 - accuracy: 0.8259 - val_loss: 0.4796 - val_accuracy: 0.7825\n",
      "Epoch 15/25\n",
      "250/250 [==============================] - 64s 255ms/step - loss: 0.3827 - accuracy: 0.8246 - val_loss: 0.4509 - val_accuracy: 0.7985\n",
      "Epoch 16/25\n",
      "250/250 [==============================] - 63s 251ms/step - loss: 0.3633 - accuracy: 0.8384 - val_loss: 0.4411 - val_accuracy: 0.7970\n",
      "Epoch 17/25\n",
      "250/250 [==============================] - 62s 249ms/step - loss: 0.3601 - accuracy: 0.8380 - val_loss: 0.4371 - val_accuracy: 0.8045\n",
      "Epoch 18/25\n",
      "250/250 [==============================] - 63s 250ms/step - loss: 0.3552 - accuracy: 0.8460 - val_loss: 0.4412 - val_accuracy: 0.8080\n",
      "Epoch 19/25\n",
      "250/250 [==============================] - 63s 251ms/step - loss: 0.3425 - accuracy: 0.8491 - val_loss: 0.5095 - val_accuracy: 0.7770\n",
      "Epoch 20/25\n",
      "250/250 [==============================] - 64s 254ms/step - loss: 0.3343 - accuracy: 0.8495 - val_loss: 0.4416 - val_accuracy: 0.8050\n",
      "Epoch 21/25\n",
      "250/250 [==============================] - 61s 242ms/step - loss: 0.3293 - accuracy: 0.8533 - val_loss: 0.4817 - val_accuracy: 0.7890\n",
      "Epoch 22/25\n",
      "250/250 [==============================] - 61s 245ms/step - loss: 0.3259 - accuracy: 0.8565 - val_loss: 0.4510 - val_accuracy: 0.7950\n",
      "Epoch 23/25\n",
      "250/250 [==============================] - 61s 244ms/step - loss: 0.3070 - accuracy: 0.8652 - val_loss: 0.4677 - val_accuracy: 0.7975\n",
      "Epoch 24/25\n",
      "250/250 [==============================] - 61s 244ms/step - loss: 0.3005 - accuracy: 0.8717 - val_loss: 0.4868 - val_accuracy: 0.7775\n",
      "Epoch 25/25\n",
      "250/250 [==============================] - 60s 242ms/step - loss: 0.2965 - accuracy: 0.8711 - val_loss: 0.4670 - val_accuracy: 0.8050\n"
     ]
    },
    {
     "data": {
      "text/plain": [
       "<keras.callbacks.History at 0x2429f31dc30>"
      ]
     },
     "execution_count": 12,
     "metadata": {},
     "output_type": "execute_result"
    }
   ],
   "source": [
    "#Training the CNN on the training set and evaluating on the Test set.\n",
    "cnn.fit(x = training_set, validation_data = test_set, epochs = 25)"
   ]
  },
  {
   "cell_type": "code",
   "execution_count": 14,
   "id": "c1b1d642",
   "metadata": {},
   "outputs": [],
   "source": [
    "#Making the prediction\n",
    "import numpy as np\n",
    "from keras.preprocessing import image\n",
    "test_image = image.load_img('C:/Users/rukmi/OneDrive/Documents/ML Course/catordog.jpg',target_size = (64,64))\n",
    "test_image = image.img_to_array(test_image)\n",
    "test_image = np.expand_dims(test_image, axis=0) #This is to add the image in the batch since we have trained our images in the batches.\n",
    "result = cnn.predict(test_image)\n",
    "training_set.class_indices\n",
    "if result[0][0] == 1:\n",
    "    prediction = 'dog'\n",
    "else:\n",
    "    prediction = 'cat'"
   ]
  },
  {
   "cell_type": "code",
   "execution_count": 15,
   "id": "155ca521",
   "metadata": {},
   "outputs": [
    {
     "name": "stdout",
     "output_type": "stream",
     "text": [
      "dog\n"
     ]
    }
   ],
   "source": [
    "print(prediction)"
   ]
  },
  {
   "cell_type": "code",
   "execution_count": null,
   "id": "98c0f59d",
   "metadata": {},
   "outputs": [],
   "source": []
  }
 ],
 "metadata": {
  "kernelspec": {
   "display_name": "Python 3 (ipykernel)",
   "language": "python",
   "name": "python3"
  },
  "language_info": {
   "codemirror_mode": {
    "name": "ipython",
    "version": 3
   },
   "file_extension": ".py",
   "mimetype": "text/x-python",
   "name": "python",
   "nbconvert_exporter": "python",
   "pygments_lexer": "ipython3",
   "version": "3.10.2"
  }
 },
 "nbformat": 4,
 "nbformat_minor": 5
}
